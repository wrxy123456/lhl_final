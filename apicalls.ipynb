{
 "cells": [
  {
   "cell_type": "code",
   "execution_count": 1,
   "id": "433e7c69",
   "metadata": {},
   "outputs": [],
   "source": [
    "import keys\n",
    "import requests as rq\n",
    "import json\n",
    "import time\n",
    "import csv\n",
    "steam = keys.steam"
   ]
  },
  {
   "cell_type": "code",
   "execution_count": 2,
   "id": "e2fe7a83",
   "metadata": {},
   "outputs": [],
   "source": [
    "url = \"http://api.steampowered.com/ISteamApps/GetAppList/v0002/?key=\""
   ]
  },
  {
   "cell_type": "code",
   "execution_count": 3,
   "id": "06700a14",
   "metadata": {},
   "outputs": [],
   "source": [
    "res = rq.get(url+steam+\"&format=json\")"
   ]
  },
  {
   "cell_type": "code",
   "execution_count": 4,
   "id": "2d6ee49a",
   "metadata": {},
   "outputs": [
    {
     "data": {
      "text/plain": [
       "200"
      ]
     },
     "execution_count": 4,
     "metadata": {},
     "output_type": "execute_result"
    }
   ],
   "source": [
    "res.status_code"
   ]
  },
  {
   "cell_type": "code",
   "execution_count": 5,
   "id": "db79bf13",
   "metadata": {},
   "outputs": [],
   "source": [
    "games = res.json()['applist']['apps'][4:]"
   ]
  },
  {
   "cell_type": "code",
   "execution_count": 37,
   "id": "8b101e91",
   "metadata": {},
   "outputs": [
    {
     "data": {
      "text/plain": [
       "119499"
      ]
     },
     "execution_count": 37,
     "metadata": {},
     "output_type": "execute_result"
    }
   ],
   "source": [
    "len(games)"
   ]
  },
  {
   "cell_type": "code",
   "execution_count": 41,
   "id": "87047307",
   "metadata": {},
   "outputs": [
    {
     "data": {
      "text/plain": [
       "{'appid': 795720, 'name': 'Warhammer 40,000: Space Wolf - Fall of Kanak'}"
      ]
     },
     "execution_count": 41,
     "metadata": {},
     "output_type": "execute_result"
    }
   ],
   "source": [
    "games[0]"
   ]
  },
  {
   "cell_type": "code",
   "execution_count": 95,
   "id": "02855c95",
   "metadata": {},
   "outputs": [],
   "source": [
    "for i in range(error,len(games)):\n",
    "    res = rq.get(\"https://store.steampowered.com/api/appdetails/?appids=\"+str(games[i]['appid']))\n",
    "    error = i\n",
    "    \n",
    "    if(res.json()[str(games[i]['appid'])]['success']):\n",
    "        dict = {}\n",
    "        dict['id'] = games[i]['appid']\n",
    "        dict['name'] = games[i]['name']\n",
    "        dict['desc'] = res.json()[str(games[i]['appid'])]['data']['detailed_description']\n",
    "        try:\n",
    "            dict['categories'] = res.json()[str(games[i]['appid'])]['data']['categories']\n",
    "        except KeyError:\n",
    "            dict['categories'] = \"\"\n",
    "        try:\n",
    "            dict['genres'] = res.json()[str(games[i]['appid'])]['data']['genres']\n",
    "        except KeyError:\n",
    "            dict['genres'] = \"\"\n",
    "            \n",
    "        with open('data.csv','a') as file:\n",
    "            writer = csv.writer(file)\n",
    "            writer.writerow([dict['id'], dict['name'], dict['desc'], dict['categories'], dict['genres']])\n",
    "    \n",
    "    time.sleep(1.5)"
   ]
  },
  {
   "cell_type": "code",
   "execution_count": null,
   "id": "85642dc5",
   "metadata": {},
   "outputs": [],
   "source": []
  }
 ],
 "metadata": {
  "kernelspec": {
   "display_name": "Python 3",
   "language": "python",
   "name": "python3"
  },
  "language_info": {
   "codemirror_mode": {
    "name": "ipython",
    "version": 3
   },
   "file_extension": ".py",
   "mimetype": "text/x-python",
   "name": "python",
   "nbconvert_exporter": "python",
   "pygments_lexer": "ipython3",
   "version": "3.8.5"
  }
 },
 "nbformat": 4,
 "nbformat_minor": 5
}
